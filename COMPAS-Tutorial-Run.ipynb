{
 "cells": [
  {
   "cell_type": "markdown",
   "id": "537bd4c5",
   "metadata": {},
   "source": [
    "# COMPAS Tutorial Run (Python)"
   ]
  },
  {
   "cell_type": "markdown",
   "id": "1b66b3b0",
   "metadata": {},
   "source": [
    "## Downloading COMPAS to your laptop\n",
    "\n",
    "To download COMPAS, read the \"Getting Started\" on COMPAS.readthedocs\n",
    "https://compas.readthedocs.io/en/latest/index.html"
   ]
  },
  {
   "cell_type": "markdown",
   "id": "0f6aa206",
   "metadata": {},
   "source": [
    "Getting Started: Getting your environment ready to simulate a population.\n"
   ]
  },
  {
   "cell_type": "markdown",
   "id": "f637d909",
   "metadata": {},
   "source": [
    "## Running COMPAS via Python: \n",
    "Simulate your population using python and the command line."
   ]
  },
  {
   "cell_type": "markdown",
   "id": "e1a43efb",
   "metadata": {},
   "source": [
    "All the basic packages and script you need are in \n",
    "\n",
    "path-to-compas-folder/COMPAS/compas_python_utils/preprocessing"
   ]
  },
  {
   "cell_type": "markdown",
   "id": "5fb9733a",
   "metadata": {},
   "source": [
    "The preprocessing folder will have:\n",
    "1. **runSubmit.py**: when executed, will generate your population.\n",
    "2. **compasConfigDefault.yaml**: will have all the parameters that you can customize for your population.\n",
    "3. any **grid.txt**: an optional way of customizing your populations even further.\n",
    "4. **COMPAS_Output folders**: the folder that will contain the outputs of your population and run details of your simulation."
   ]
  },
  {
   "cell_type": "markdown",
   "id": "21179e11",
   "metadata": {},
   "source": [
    "#### Step 1: cd to the preprocessing folder\n",
    "\n",
    "In your command line, cd path-to-compas-folder/COMPAS/compas_python_utils/preprocessing\n",
    "\n",
    "If you are not sure of where your COMPAS folder is located in your computer:\n",
    "1. Search for your folder with your computer's \"Finder\".\n",
    "2. Open your folder info.\n",
    "3. Your folder will have its filepath."
   ]
  },
  {
   "cell_type": "markdown",
   "id": "1313f47c",
   "metadata": {},
   "source": [
    "#### Step 2: Understanding the .yaml file\n",
    "The 'compasConfigDefault.yaml' has all the input parameters about the binary systems you are about to simulate.\n",
    "\n",
    "**Some of the parameter values with a default .yaml file:**\\\n",
    "Detailed Output = False\\\n",
    "Number of binary systems = 10 binaries\\\n",
    "Metallicity = 0.014200 (Solar Metallicity)\\\n",
    "Eccentricity = 0.0\\\n",
    "Minimum initial mass for primary star = 5 (M_sol)\\\n",
    "Maximum initial mass for primary star = 150 (M_sol)\\\n",
    "Minimum initial mass for secondary star = 0.1 (M_sol)"
   ]
  },
  {
   "cell_type": "markdown",
   "id": "8bf80a90",
   "metadata": {},
   "source": [
    "$\\Rightarrow$ Based on the project your project, these parameters should be changed to get the desired outputs in your simulation."
   ]
  },
  {
   "cell_type": "markdown",
   "id": "eaa066ad",
   "metadata": {},
   "source": [
    "#### Running a simulation\n",
    "\n",
    "**At this point you should have:**\n",
    "1. installed COMPAS from GitHub\n",
    "2. installed the necessary python packages (numpy, matplotlib, h5py, pandas)\n",
    "3. and moved into the preprocessing folder within COMPAS\n",
    "\n",
    "**Now let's change some of the contents in the .yaml folder:**\n",
    "1. open the .yaml folder.\n",
    "2. uncomment line 88: # --number-of-systems: 10\n",
    "3. and change line 88 to say: --number-of-systems: 1000\n",
    "by changing \"--number-of-systems: 1000\", you want 1000 binary stellar evolutions.\n",
    "4. uncomment line 99: # --metallicity: 0.014200 (this is solar metallicity)\n",
    "5. and change line 99 to say: --metallicity: 0.00142\n",
    "by changing \"--metallicity: 0.00142\", you want all 1000 binary stellar evolutions to have ~1/10 solar metallicity\n",
    "6. save your changes\n",
    "\n",
    "**Now type this into your command line:**\\\n",
    "python3 runSubmit.py\n",
    "\n",
    "**Your output should look something like...**\n",
    "\n",
    "Start generating binaries at Wed Jun 18 10:40:58 2025\n",
    "\n",
    "0: Stars merged: (Main_Sequence_>_0.7 -> Main_Sequence_>_0.7) + (Main_Sequence_>_0.7 -> Main_Sequence_>_0.7)\\\n",
    "1: Allowed time exceeded: (Main_Sequence_>_0.7 -> Oxygen-Neon_White_Dwarf) + (Main_Sequence_<=_0.7 -> Main_Sequence_<=_0.7)\\\n",
    "2: Double White Dwarf formed: (Main_Sequence_>_0.7 -> Oxygen-Neon_White_Dwarf) + (Main_Sequence_>_0.7 -> Carbon-Oxygen_White_Dwarf)\\\n",
    "3: Allowed time exceeded: (Main_Sequence_>_0.7 -> Oxygen-Neon_White_Dwarf) + (Main_Sequence_<=_0.7 -> Main_Sequence_<=_0.7)\\\n",
    "4: Stars merged: (Main_Sequence_>_0.7 -> First_Giant_Branch) + (Main_Sequence_>_0.7 -> Main_Sequence_>_0.7)\\\n",
    "5: Double White Dwarf formed: (Main_Sequence_>_0.7 -> Carbon-Oxygen_White_Dwarf) + (Main_Sequence_>_0.7 -> Carbon-Oxygen_White_Dwarf)\n",
    "\n",
    "...\n",
    "\n",
    "**and so on until this message at the end.**\n",
    "\n",
    "Generated 1000 of 1000 binaries requested\n",
    "\n",
    "Simulation completed\n",
    "\n",
    "End generating binaries at Wed Jun 18 10:43:56 2025\n",
    "\n",
    "Clock time = 177.109 CPU seconds\n",
    "Wall time  = 0000:00:35 (hhhh:mm:ss)"
   ]
  },
  {
   "cell_type": "markdown",
   "id": "d6622b20",
   "metadata": {},
   "source": [
    "#### Accessing output data with Python\n",
    "Your COMPAS output will be within \"preprocessing\", the same folder as the .yaml file.\n",
    "\n",
    "Now that you ran a simulation, you can access the data with python! Run the cells in the notebook to create your first plot with your data!\n",
    "\n",
    "**I added a #complete to each area that needs completing by you**"
   ]
  },
  {
   "cell_type": "code",
   "execution_count": 21,
   "id": "a1c9fa9a",
   "metadata": {},
   "outputs": [],
   "source": [
    "import numpy as np\n",
    "import h5py as h5\n",
    "import matplotlib.pyplot as plt"
   ]
  },
  {
   "cell_type": "code",
   "execution_count": null,
   "id": "9539ec11",
   "metadata": {},
   "outputs": [],
   "source": [
    "\"\"\"==========================================\n",
    "The h5.File opens your hdf5 COMPAS output.\n",
    "\n",
    "This line assigns your opened file to an\n",
    "object that I call 'data'.\n",
    "==========================================\"\"\"\n",
    "\n",
    "# Add your unique filepath to the preprocessing folder\n",
    "data = h5.File(\"/path-to-folder/COMPAS_Output_1/COMPAS_Output.h5\") #complete"
   ]
  },
  {
   "cell_type": "code",
   "execution_count": null,
   "id": "0f4dfda8",
   "metadata": {},
   "outputs": [],
   "source": [
    "\"\"\"=================================================================\n",
    " The hdf5 file is large! It contains lots of data on the stars you \n",
    " just evolved. \n",
    "\n",
    " You can run this code and view how the data is organized within a \n",
    " COMPAS output file. \n",
    "\n",
    " I also added a section to assign each 'chapter' of your data so that \n",
    " you can see the subsections as well!\n",
    "====================================================================\"\"\"\n",
    "\n",
    "print(\"The 'chapters' within your book of data:\")\n",
    "print(data.keys())\n",
    "\n",
    "# Assign all keys to an object\n",
    "CEs = data['BSE_Common_Envelopes']\n",
    "DCOs = data['BSE_Double_Compact_Objects']\n",
    "RLOFs = data['BSE_RLOF']\n",
    "SNs = data['BSE_Supernovae']\n",
    "SPs = data['BSE_System_Parameters']\n",
    "Run_Details = data['Run_Details']\n",
    "print(\"An example of the subsections within one key of your COMPAS data:\")\n",
    "print(Run_Details.keys())"
   ]
  },
  {
   "cell_type": "code",
   "execution_count": null,
   "id": "02f40d3e",
   "metadata": {},
   "outputs": [],
   "source": [
    "\"\"\"=================================================================\n",
    " We can plot are the initial and final masses \n",
    " of the stars that became double compact object mergers.\n",
    "\n",
    " Run this cell to initialize the definition I made for isolating\n",
    " double compact object mergers.\n",
    "====================================================================\"\"\"\n",
    "\n",
    "def dco_masses(h5_data_file):\n",
    "    \"\"\"\n",
    "    Returns only the initial and final masses for BSE systems that became DCO mergers.\n",
    "    ==============================================================================\n",
    "\n",
    "    Inputs:\n",
    "    --------\n",
    "    h5_data_file: h5 File\n",
    "        The hdf5 file of your simulation\n",
    "\n",
    "    Outputs:\n",
    "    --------\n",
    "    zams_mass1: array-like\n",
    "        The initial mass of primary star.\n",
    "\n",
    "    zams_mass2: array-like\n",
    "        The initial mass of secondary star.\n",
    "\n",
    "    co_mass1: array-like\n",
    "        The final mass of primary star.\n",
    "    \n",
    "    co_mass2: array-like\n",
    "        The final mass of secondary star.\n",
    "    \"\"\"\n",
    "\n",
    "    # Extract datasets\n",
    "    dco_seed = h5_data_file['BSE_Double_Compact_Objects']['SEED'][:]  # DCO seeds\n",
    "    system_seed = h5_data_file['BSE_System_Parameters']['SEED'][:]     # All seeds\n",
    "    ce_all_seed = np.unique(h5_data_file['BSE_RLOF']['SEED'][:]) # Common Envelope seeds\n",
    "    ce_seed = np.array([seed for seed in ce_all_seed if seed in dco_seed])\n",
    "    # BSEs that experience common envelope will often have more than one event, so get rid of repeating seeds.\n",
    "    full_zams_mass1 = h5_data_file['BSE_System_Parameters']['Mass@ZAMS(1)'][:]\n",
    "    full_zams_mass2 = h5_data_file['BSE_System_Parameters']['Mass@ZAMS(2)'][:]\n",
    "    full_co_mass1 = h5_data_file['BSE_Double_Compact_Objects']['Mass(1)'][:]\n",
    "    full_co_mass2 = h5_data_file['BSE_Double_Compact_Objects']['Mass(2)'][:]\n",
    "\n",
    "    zams1_dict = dict(zip(system_seed, full_zams_mass1))\n",
    "    zams2_dict = dict(zip(system_seed, full_zams_mass2))\n",
    "    \n",
    "    # zams and co masses\n",
    "    zams_mass1 = np.array([zams1_dict[seed] for seed in dco_seed])\n",
    "    zams_mass2 = np.array([zams2_dict[seed] for seed in dco_seed])\n",
    "\n",
    "    co_mass1 = full_co_mass1\n",
    "    co_mass2 = full_co_mass2\n",
    "\n",
    "    return zams_mass1, zams_mass2, co_mass1, co_mass2\n",
    "    "
   ]
  },
  {
   "cell_type": "code",
   "execution_count": null,
   "id": "03e5b1aa",
   "metadata": {},
   "outputs": [],
   "source": [
    "zams1, zams2, co1, co2 = dco_masses(data)\n",
    "\n",
    "fig, ax = plt.subplots(figsize=(8,8))\n",
    "ax.scatter(zams1, co1, marker='*', color='C0', label='Primary Star')\n",
    "ax.scatter(zams1, co2, marker='*', color='C1', label='Secondary Star')\n",
    "ax.legend(loc = 'lower right')\n",
    "ax.set_xlabel(r'Mass at ZAMS, $M_{\\odot}$')\n",
    "ax.set_ylabel(r'Mass as Compact Object, $M_{\\odot}$')\n",
    "ax.set_title(\"Initial Mass at Zero-Age Main-Sequence (ZAMS) and Final Mass as Double Compace Object (DCO)\")\n",
    "ax.grid()\n",
    "plt.show()"
   ]
  }
 ],
 "metadata": {
  "kernelspec": {
   "display_name": "Python 3.11",
   "language": "python",
   "name": "python311"
  },
  "language_info": {
   "codemirror_mode": {
    "name": "ipython",
    "version": 3
   },
   "file_extension": ".py",
   "mimetype": "text/x-python",
   "name": "python",
   "nbconvert_exporter": "python",
   "pygments_lexer": "ipython3",
   "version": "3.11.12"
  }
 },
 "nbformat": 4,
 "nbformat_minor": 5
}
